{
 "cells": [
  {
   "cell_type": "code",
   "execution_count": null,
   "metadata": {},
   "outputs": [],
   "source": [
    "from operator import methodcaller\n",
    "\n",
    "import pandas as pd\n",
    "import seaborn as sns\n",
    "from matplotlib import pyplot as plt\n",
    "\n",
    "sns.set_theme()\n"
   ]
  },
  {
   "cell_type": "code",
   "execution_count": null,
   "metadata": {},
   "outputs": [],
   "source": [
    "df = pd.read_csv(\n",
    "    \"out/formatted/formatted.csv\", index_col=\"timestamp\", parse_dates=[\"timestamp\"]\n",
    ")\n",
    "df.columns.name = \"studio\"\n",
    "df.columns = df.columns.map(methodcaller(\"title\"))\n"
   ]
  },
  {
   "cell_type": "code",
   "execution_count": null,
   "metadata": {},
   "outputs": [],
   "source": [
    "import numpy as np\n",
    "\n",
    "\n",
    "ignore = [\n",
    "    (\"2022-11-15 09:26:00+0100\", \"Eppendorf\"),\n",
    "    (\"2022-11-15 18:19:00+0100\", \"Eppendorf\"),\n",
    "    (\"2022-11-16 14:40:00+0100\", \"Eppendorf\"),\n",
    "    (\"2022-11-18 04:16:00+0100\", \"Eppendorf\"),\n",
    "    (\"2022-11-18 20:16:00+0100\", \"Eppendorf\"),\n",
    "    (\"2022-11-20 05:25:00+0100\", \"Eppendorf\"),\n",
    "    (\"2022-11-21 00:19:00+0100\", \"Eppendorf\")\n",
    "]\n",
    "\n",
    "for i, c in ignore:\n",
    "    df.loc[i, c] = np.nan\n"
   ]
  },
  {
   "cell_type": "code",
   "execution_count": null,
   "metadata": {},
   "outputs": [],
   "source": [
    "df.stack().to_frame(\"occupancy\").query(\"occupancy == 100\")"
   ]
  },
  {
   "cell_type": "code",
   "execution_count": null,
   "metadata": {},
   "outputs": [],
   "source": [
    "plt.figure(figsize=(10, 5), dpi=200)\n",
    "sns.lineplot(df)\n"
   ]
  },
  {
   "cell_type": "code",
   "execution_count": null,
   "metadata": {},
   "outputs": [],
   "source": [
    "plt.figure(figsize=(10, 5), dpi=200)\n",
    "sns.lineplot(df.resample(\"H\").mean().interpolate())\n"
   ]
  },
  {
   "cell_type": "code",
   "execution_count": null,
   "metadata": {},
   "outputs": [],
   "source": [
    "hour_min, hour_max = 8, 22\n",
    "plt.figure(figsize=(10, 5), dpi=200)\n",
    "sns.lineplot(\n",
    "    df[df.index.hour.to_series(index=df.index).between(hour_min, hour_max)]\n",
    "    .resample(\"D\")\n",
    "    .mean()\n",
    "    .interpolate()\n",
    ")\n",
    "plt.title(f\"Mean occupancy between {hour_min} and {hour_max}\")\n"
   ]
  },
  {
   "cell_type": "code",
   "execution_count": null,
   "metadata": {},
   "outputs": [],
   "source": [
    "plt.figure(figsize=(10, 5), dpi=200)\n",
    "sns.lineplot(df.resample(\"D\").max().interpolate())\n",
    "plt.title(f\"Max occupancy\")\n"
   ]
  },
  {
   "cell_type": "code",
   "execution_count": null,
   "metadata": {},
   "outputs": [],
   "source": [
    "hour = 17\n",
    "plt.figure(figsize=(10, 5), dpi=200)\n",
    "sns.lineplot(df.query(\"index.dt.hour >= @hour\").resample(\"D\").max().interpolate())\n",
    "plt.title(f\"Max occupancy after {hour}\")\n"
   ]
  },
  {
   "cell_type": "code",
   "execution_count": null,
   "metadata": {},
   "outputs": [],
   "source": [
    "df_resampled = df.resample(\"H\").mean().interpolate()\n"
   ]
  },
  {
   "cell_type": "code",
   "execution_count": null,
   "metadata": {},
   "outputs": [],
   "source": [
    "def seasonality_plot(\n",
    "    df: pd.DataFrame, title: str\n",
    ") -> None:\n",
    "    plt.figure(figsize=(10, 5), dpi=200)\n",
    "    df[\"hour\"] = df.index.hour\n",
    "    df[\"day\"] = df.index.floor(\"d\")\n",
    "    plt.title(title)\n",
    "    sns.lineplot(data=df, x=\"hour\", y=\"occupancy\", hue=\"day\", palette=\"viridis\")\n",
    "    plt.axvline(17, color=\"gray\", linestyle=\"--\")\n",
    "\n",
    "\n",
    "for c in df_resampled:\n",
    "    df_plot = df_resampled[c].to_frame().rename(columns={c: \"occupancy\"})\n",
    "    seasonality_plot(df_plot, c)\n",
    "    plt.show()\n"
   ]
  },
  {
   "cell_type": "code",
   "execution_count": null,
   "metadata": {},
   "outputs": [],
   "source": [
    "for c in df_resampled:\n",
    "    df_plot = df_resampled[c].to_frame().rename(columns={c: \"occupancy\"})\n",
    "    seasonality_plot(df_plot[df_plot.index.day_of_week < 5].copy(), f\"{c} Arbeitstag\")\n",
    "    plt.show()\n"
   ]
  },
  {
   "cell_type": "code",
   "execution_count": null,
   "metadata": {},
   "outputs": [],
   "source": [
    "for c in df_resampled:\n",
    "    df_plot = df_resampled[c].to_frame().rename(columns={c: \"occupancy\"})\n",
    "    seasonality_plot(df_plot[df_plot.index.day_of_week >= 5].copy(), f\"{c} Wochenende\")\n",
    "    plt.show()\n"
   ]
  },
  {
   "cell_type": "code",
   "execution_count": null,
   "metadata": {},
   "outputs": [],
   "source": []
  }
 ],
 "metadata": {
  "kernelspec": {
   "display_name": "Python 3 (ipykernel)",
   "language": "python",
   "name": "python3"
  },
  "language_info": {
   "codemirror_mode": {
    "name": "ipython",
    "version": 3
   },
   "file_extension": ".py",
   "mimetype": "text/x-python",
   "name": "python",
   "nbconvert_exporter": "python",
   "pygments_lexer": "ipython3",
   "version": "3.11.0"
  },
  "vscode": {
   "interpreter": {
    "hash": "ed686d70f7df0b3312eaec95523f717c7f0c265be0b9721a5d33871ef554f2cb"
   }
  }
 },
 "nbformat": 4,
 "nbformat_minor": 4
}
