{
 "cells": [
  {
   "cell_type": "code",
   "execution_count": null,
   "metadata": {},
   "outputs": [],
   "source": [
    "import pandas as pd\n",
    "import seaborn as sns\n",
    "from matplotlib import pyplot as plt\n",
    "\n",
    "sns.set_theme()"
   ]
  },
  {
   "cell_type": "code",
   "execution_count": null,
   "metadata": {},
   "outputs": [],
   "source": [
    "df = pd.read_csv(\n",
    "    \"out/formatted/formatted.csv\", index_col=\"timestamp\", parse_dates=[\"timestamp\"]\n",
    ")\n",
    "df.columns.name = \"studio\"\n",
    "df.columns = df.columns.str.title()"
   ]
  },
  {
   "cell_type": "code",
   "execution_count": null,
   "metadata": {},
   "outputs": [],
   "source": [
    "df"
   ]
  },
  {
   "cell_type": "code",
   "execution_count": null,
   "metadata": {},
   "outputs": [],
   "source": [
    "import numpy as np\n",
    "\n",
    "ignore = [\n",
    "    (\"2023-01-10T06:13:00+01:00\", \"Eppendorf\"),\n",
    "    (\"2023-01-11T14:24:00+01:00\", \"Eppendorf\"),\n",
    "    (\"2023-01-11T17:25:00+01:00\", \"Eppendorf\"),\n",
    "    (\"2023-01-12T12:17:00+01:00\", \"Eppendorf\"),\n",
    "    (\"2023-01-12T23:14:00+01:00\", \"Stephansplatz\"),\n",
    "    (\"2023-01-13T18:13:00+01:00\", \"Eppendorf\"),\n",
    "    (\"2023-01-14T10:13:00+01:00\", \"Eppendorf\"),\n",
    "    (\"2023-01-15T03:42:00+01:00\", \"Stephansplatz\"),\n",
    "    (\"2023-01-15T03:42:00+01:00\", \"Eppendorf\"),\n",
    "    (\"2023-01-15T03:42:00+01:00\", \"Wandsbek\"),\n",
    "    (\"2023-01-15T03:42:00+01:00\", \"Altona\"),\n",
    "    (\"2023-01-15T03:42:00+01:00\", \"St-Georg\"),\n",
    "    (\"2023-01-15T03:42:00+01:00\", \"Niendorf\"),\n",
    "    (\"2023-01-15T03:42:00+01:00\", \"Jungfernstieg\"),\n",
    "    (\"2023-01-15T03:42:00+01:00\", \"Neustadt\"),\n",
    "    (\"2023-01-17T21:14:00+01:00\", \"Eppendorf\"),\n",
    "    (\"2023-01-18T15:13:00+01:00\", \"Eppendorf\"),\n",
    "    (\"2023-01-18T19:16:00+01:00\", \"Eppendorf\"),\n",
    "    (\"2023-01-21T05:16:00+01:00\", \"Niendorf\"),\n",
    "    (\"2023-01-21T23:12:00+01:00\", \"Eppendorf\"),\n",
    "    (\"2023-01-22T16:13:00+01:00\", \"Eppendorf\"),\n",
    "    (\"2023-01-24T05:16:00+01:00\", \"Eppendorf\"),\n",
    "    (\"2023-01-25T11:14:00+01:00\", \"Eppendorf\"),\n",
    "    (\"2023-01-25T14:20:00+01:00\", \"Eppendorf\"),\n",
    "    (\"2023-01-26T15:12:00+01:00\", \"Eppendorf\"),\n",
    "    (\"2023-01-29T03:45:00+01:00\", \"Stephansplatz\"),\n",
    "    (\"2023-01-29T03:45:00+01:00\", \"Eppendorf\"),\n",
    "    (\"2023-01-29T03:45:00+01:00\", \"Wandsbek\"),\n",
    "    (\"2023-01-29T03:45:00+01:00\", \"Altona\"),\n",
    "    (\"2023-01-29T03:45:00+01:00\", \"St-Georg\"),\n",
    "    (\"2023-01-29T03:45:00+01:00\", \"Niendorf\"),\n",
    "    (\"2023-01-29T03:45:00+01:00\", \"Jungfernstieg\"),\n",
    "    (\"2023-01-29T03:45:00+01:00\", \"Neustadt\"),\n",
    "    (\"2023-02-01T12:12:00+01:00\", \"Eppendorf\"),\n",
    "    (\"2023-02-02T07:17:00+01:00\", \"Stephansplatz\"),\n",
    "    (\"2023-02-02T07:17:00+01:00\", \"Wandsbek\"),\n",
    "]\n",
    "\n",
    "for i, c in ignore:\n",
    "    df.at[i, c] = np.nan"
   ]
  },
  {
   "cell_type": "code",
   "execution_count": null,
   "metadata": {},
   "outputs": [],
   "source": [
    "list(\n",
    "    map(\n",
    "        lambda tpl: (tpl[0].isoformat(), tpl[1]),\n",
    "        df.stack()\n",
    "        .to_frame(\"occupancy\")\n",
    "        .query(\"occupancy == 100\")\n",
    "        .index.to_frame()\n",
    "        .itertuples(index=False),\n",
    "    )\n",
    ")"
   ]
  },
  {
   "cell_type": "code",
   "execution_count": null,
   "metadata": {},
   "outputs": [],
   "source": [
    "import matplotlib.dates as mdates\n",
    "\n",
    "plt.figure(figsize=(10, 5), dpi=200)\n",
    "sns.lineplot(df)\n",
    "locator = mdates.AutoDateLocator(minticks=3, maxticks=7)\n",
    "formatter = mdates.ConciseDateFormatter(locator)\n",
    "plt.gca().xaxis.set_major_locator(locator)\n",
    "plt.gca().xaxis.set_major_formatter(formatter)"
   ]
  },
  {
   "cell_type": "code",
   "execution_count": null,
   "metadata": {},
   "outputs": [],
   "source": [
    "plt.figure(figsize=(10, 5), dpi=200)\n",
    "sns.lineplot(df.resample(\"H\").mean().interpolate())\n",
    "locator = mdates.AutoDateLocator(minticks=3, maxticks=7)\n",
    "formatter = mdates.ConciseDateFormatter(locator)\n",
    "plt.gca().xaxis.set_major_locator(locator)\n",
    "plt.gca().xaxis.set_major_formatter(formatter)"
   ]
  },
  {
   "cell_type": "code",
   "execution_count": null,
   "metadata": {},
   "outputs": [],
   "source": [
    "hour_min, hour_max = 8, 22\n",
    "plt.figure(figsize=(10, 5), dpi=200)\n",
    "sns.lineplot(\n",
    "    df[df.index.hour.to_series(index=df.index).between(hour_min, hour_max)]\n",
    "    .resample(\"D\")\n",
    "    .mean()\n",
    "    .interpolate()\n",
    ")\n",
    "plt.title(f\"Mean occupancy between {hour_min} and {hour_max}\")\n",
    "locator = mdates.AutoDateLocator(minticks=3, maxticks=7)\n",
    "formatter = mdates.ConciseDateFormatter(locator)\n",
    "plt.gca().xaxis.set_major_locator(locator)\n",
    "plt.gca().xaxis.set_major_formatter(formatter)"
   ]
  },
  {
   "cell_type": "code",
   "execution_count": null,
   "metadata": {},
   "outputs": [],
   "source": [
    "plt.figure(figsize=(10, 5), dpi=200)\n",
    "sns.lineplot(df.resample(\"D\").max().interpolate())\n",
    "plt.title(f\"Max occupancy\")\n",
    "locator = mdates.AutoDateLocator(minticks=3, maxticks=7)\n",
    "formatter = mdates.ConciseDateFormatter(locator)\n",
    "plt.gca().xaxis.set_major_locator(locator)\n",
    "plt.gca().xaxis.set_major_formatter(formatter)"
   ]
  },
  {
   "cell_type": "code",
   "execution_count": null,
   "metadata": {},
   "outputs": [],
   "source": [
    "hour = 17\n",
    "plt.figure(figsize=(10, 5), dpi=200)\n",
    "sns.lineplot(df.query(\"index.dt.hour >= @hour\").resample(\"D\").max().interpolate())\n",
    "plt.title(f\"Max occupancy after {hour}\")\n",
    "locator = mdates.AutoDateLocator(minticks=3, maxticks=7)\n",
    "formatter = mdates.ConciseDateFormatter(locator)\n",
    "plt.gca().xaxis.set_major_locator(locator)\n",
    "plt.gca().xaxis.set_major_formatter(formatter)"
   ]
  },
  {
   "cell_type": "code",
   "execution_count": null,
   "metadata": {},
   "outputs": [],
   "source": [
    "df_resampled = df.resample(\"H\").mean().interpolate().dropna()"
   ]
  },
  {
   "cell_type": "code",
   "execution_count": null,
   "metadata": {},
   "outputs": [],
   "source": [
    "import matplotlib as mpl\n",
    "import matplotlib.pyplot as plt\n",
    "import seaborn as sns\n",
    "import pandas as pd\n",
    "import numpy as np\n",
    "\n",
    "\n",
    "def lineplot_with_colorbar(**kwargs):\n",
    "    palette = kwargs.pop(\"palette\", \"viridis\")\n",
    "    cmap = plt.get_cmap(palette)\n",
    "    hue = kwargs.get(\"hue\")\n",
    "    ax = sns.lineplot(**kwargs, palette=cmap)\n",
    "    cbar = ax.figure.colorbar(\n",
    "        mpl.cm.ScalarMappable(\n",
    "            norm=mpl.colors.Normalize(\n",
    "                vmin=df[hue].min(), vmax=df[hue].max(), clip=False\n",
    "            ),\n",
    "            cmap=cmap,\n",
    "        ),\n",
    "        ticks=np.arange(df[hue].min(), df[hue].max() + 1),\n",
    "        ax=ax,\n",
    "    )\n",
    "    # cbar.ax.invert_yaxis()  # optionally invert the yaxis of the colorbar\n",
    "    ax.legend_.remove()  # for testing purposes don't yet remove the legend\n",
    "    return ax"
   ]
  },
  {
   "cell_type": "code",
   "execution_count": null,
   "metadata": {
    "scrolled": false
   },
   "outputs": [],
   "source": [
    "import seaborn.objects as so\n",
    "\n",
    "\n",
    "def seasonality_plot(df: pd.DataFrame, title: str) -> None:\n",
    "    df = df.copy()\n",
    "    df[\"day\"] = df.index.day_name()\n",
    "    df[\"week\"] = df.index.isocalendar().week.astype(int)\n",
    "    df[\"hour\"] = df.index.hour\n",
    "    p = (\n",
    "        so.Plot(\n",
    "            data=df,\n",
    "            x=\"hour\",\n",
    "            y=\"occupancy\",\n",
    "            color=\"day\",\n",
    "            linestyle=\"week\",\n",
    "        )\n",
    "        .add(so.Lines())\n",
    "        .scale(color=\"tab10\")\n",
    "        .layout(size=(10, 5))\n",
    "        .label(title=title)\n",
    "    )\n",
    "    display(p)\n",
    "\n",
    "\n",
    "for c in df_resampled:\n",
    "    df_plot = df_resampled[c].to_frame().rename(columns={c: \"occupancy\"})\n",
    "    seasonality_plot(df_plot, c)\n",
    "    plt.show()"
   ]
  },
  {
   "cell_type": "code",
   "execution_count": null,
   "metadata": {
    "scrolled": false
   },
   "outputs": [],
   "source": [
    "for c in df_resampled:\n",
    "    df_plot = df_resampled[c].to_frame().rename(columns={c: \"occupancy\"})\n",
    "    seasonality_plot(df_plot[df_plot.index.day_of_week < 5].copy(), f\"{c} Arbeitstag\")\n",
    "    plt.show()"
   ]
  },
  {
   "cell_type": "code",
   "execution_count": null,
   "metadata": {
    "scrolled": false
   },
   "outputs": [],
   "source": [
    "for c in df_resampled:\n",
    "    df_plot = df_resampled[c].to_frame().rename(columns={c: \"occupancy\"})\n",
    "    seasonality_plot(df_plot[df_plot.index.day_of_week >= 5].copy(), f\"{c} Wochenende\")\n",
    "    plt.show()"
   ]
  },
  {
   "cell_type": "code",
   "execution_count": null,
   "metadata": {},
   "outputs": [],
   "source": []
  },
  {
   "cell_type": "code",
   "execution_count": null,
   "metadata": {},
   "outputs": [],
   "source": []
  },
  {
   "cell_type": "code",
   "execution_count": null,
   "metadata": {},
   "outputs": [],
   "source": []
  },
  {
   "cell_type": "code",
   "execution_count": null,
   "metadata": {},
   "outputs": [],
   "source": []
  },
  {
   "cell_type": "code",
   "execution_count": null,
   "metadata": {},
   "outputs": [],
   "source": []
  }
 ],
 "metadata": {
  "kernelspec": {
   "display_name": "Python 3 (ipykernel)",
   "language": "python",
   "name": "python3"
  },
  "language_info": {
   "codemirror_mode": {
    "name": "ipython",
    "version": 3
   },
   "file_extension": ".py",
   "mimetype": "text/x-python",
   "name": "python",
   "nbconvert_exporter": "python",
   "pygments_lexer": "ipython3",
   "version": "3.11.1"
  },
  "vscode": {
   "interpreter": {
    "hash": "ed686d70f7df0b3312eaec95523f717c7f0c265be0b9721a5d33871ef554f2cb"
   }
  }
 },
 "nbformat": 4,
 "nbformat_minor": 4
}
