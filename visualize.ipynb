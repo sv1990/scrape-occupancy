{
 "cells": [
  {
   "cell_type": "code",
   "execution_count": null,
   "metadata": {},
   "outputs": [],
   "source": [
    "import json\n",
    "from pathlib import Path\n",
    "\n",
    "import pandas as pd\n",
    "import seaborn as sns\n",
    "from matplotlib import pyplot as plt\n",
    "\n",
    "sns.set_theme()\n"
   ]
  },
  {
   "cell_type": "code",
   "execution_count": null,
   "metadata": {},
   "outputs": [],
   "source": [
    "input_path = Path(\"out\")\n"
   ]
  },
  {
   "cell_type": "code",
   "execution_count": null,
   "metadata": {},
   "outputs": [],
   "source": [
    "def read_data(file: Path) -> pd.DataFrame:\n",
    "    with open(file) as f:\n",
    "        data = json.load(f)\n",
    "        return pd.json_normalize(data)\n",
    "\n",
    "\n",
    "df = pd.concat((read_data(file) for file in input_path.iterdir()), ignore_index=True)\n",
    "df.timestamp = pd.to_datetime(df.timestamp)\n",
    "df[\"timestamp\"] = df[\"timestamp\"].dt.tz_convert(\"Europe/Berlin\")\n",
    "df = df.set_index(\"timestamp\").sort_index()\n"
   ]
  },
  {
   "cell_type": "code",
   "execution_count": null,
   "metadata": {},
   "outputs": [],
   "source": [
    "plt.figure(figsize=(10, 5))\n",
    "sns.lineplot(df)\n"
   ]
  },
  {
   "cell_type": "code",
   "execution_count": null,
   "metadata": {},
   "outputs": [],
   "source": [
    "plt.figure(figsize=(10, 5))\n",
    "sns.lineplot(df.resample(\"H\").mean())\n"
   ]
  }
 ],
 "metadata": {
  "kernelspec": {
   "display_name": "Python 3.11.0 ('venv': venv)",
   "language": "python",
   "name": "python3"
  },
  "language_info": {
   "codemirror_mode": {
    "name": "ipython",
    "version": 3
   },
   "file_extension": ".py",
   "mimetype": "text/x-python",
   "name": "python",
   "nbconvert_exporter": "python",
   "pygments_lexer": "ipython3",
   "version": "3.11.0"
  },
  "orig_nbformat": 4,
  "vscode": {
   "interpreter": {
    "hash": "ed686d70f7df0b3312eaec95523f717c7f0c265be0b9721a5d33871ef554f2cb"
   }
  }
 },
 "nbformat": 4,
 "nbformat_minor": 2
}
